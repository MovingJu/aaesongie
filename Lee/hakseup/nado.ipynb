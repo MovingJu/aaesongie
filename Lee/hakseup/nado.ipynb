{
 "cells": [
  {
   "cell_type": "markdown",
   "metadata": {},
   "source": [
    "## 자료구조"
   ]
  },
  {
   "cell_type": "markdown",
   "metadata": {},
   "source": [
    "### 몰랐을만한 연산자, 수학용 함수"
   ]
  },
  {
   "cell_type": "code",
   "execution_count": null,
   "metadata": {},
   "outputs": [],
   "source": [
    "n = 0\n",
    "\n",
    "n += 0\n",
    "n -= 0\n",
    "n *= 0\n",
    "n /= 1\n",
    "n //= 1\n",
    "n %= 1\n",
    "\n",
    "print(abs(-5), pow(2, 4), \n",
    "      max(2, 4), min(2, 4))"
   ]
  },
  {
   "cell_type": "markdown",
   "metadata": {},
   "source": [
    "### 소숫점 처리"
   ]
  },
  {
   "cell_type": "code",
   "execution_count": null,
   "metadata": {},
   "outputs": [],
   "source": [
    "print(0.1 + 0.2 == 0.3)\n",
    "\n",
    "print(round(3.14), round(3.14, 1)) # 이게 훨 좋음.\n",
    "\n",
    "import math\n",
    "\n",
    "print(math.floor(3.14), # 솔직히 올림이랑 내림은 쓸데 없음.\n",
    "      math.ceil(3.14),\n",
    "      math.sqrt(9),\n",
    "      math.pi)"
   ]
  },
  {
   "cell_type": "markdown",
   "metadata": {},
   "source": [
    "### 문자열 잡다"
   ]
  },
  {
   "cell_type": "code",
   "execution_count": null,
   "metadata": {},
   "outputs": [],
   "source": [
    "s1 = \"\"\"python is in between my legs.\n",
    "hhb would late tomorrow.\n",
    "jsm sucks at hanguksa.\"\"\"\n",
    "\n",
    "# 'legs.' 에서 '.'이 정확히 30번째임.\n",
    "\n",
    "print(s1,'\\n')\n",
    "\n",
    "print(s1[:30])\n",
    "print(s1[31:55])\n",
    "print(s1[56:],'\\n')\n",
    "\n",
    "print(len(s1))"
   ]
  },
  {
   "cell_type": "markdown",
   "metadata": {},
   "source": [
    "### 문자열 메소드 잡다"
   ]
  },
  {
   "cell_type": "code",
   "execution_count": null,
   "metadata": {},
   "outputs": [],
   "source": [
    "print(s1.find(\"n\"))\n",
    "print(s1.index(\"n\"))\n",
    "print(s1.index(\"n\", s1.index('n') + 1)) # 메소드 설명 읽어봐.\n",
    "\n",
    "print(s1.replace('late', 'so much late'))\n",
    "print(s1.count('n'))\n",
    "\n",
    "print(s1.find('깡상'))\n",
    "print(s1.index('깡상'))"
   ]
  },
  {
   "cell_type": "markdown",
   "metadata": {},
   "source": [
    "### Quiz1. \"http://www.google.com\"과 같이 \"http://www.{어쩌구저쩌구}.com\"가 들어왔을때 '어쩌구저쩌구 사이트'를 출력하는 코드를 짜세여"
   ]
  },
  {
   "cell_type": "code",
   "execution_count": null,
   "metadata": {},
   "outputs": [],
   "source": [
    "link = \"http://www.onlydongju_site_free_hot_dongJu_video.com\"\n",
    "\n"
   ]
  },
  {
   "cell_type": "markdown",
   "metadata": {},
   "source": [
    "### 문자열 포멧 (*강조* 하는거 알아둘것!)"
   ]
  },
  {
   "cell_type": "code",
   "execution_count": null,
   "metadata": {},
   "outputs": [],
   "source": [
    "print('*' + '*')\n",
    "print('*' * 8, '\\n')\n",
    "\n",
    "for i in range(1, 7):\n",
    "    print('*' * i)"
   ]
  },
  {
   "cell_type": "code",
   "execution_count": null,
   "metadata": {},
   "outputs": [],
   "source": [
    "nai = 18\n",
    "name = 'hhb'\n",
    "\n",
    "x0 = \"my nai is %d, name is %s\" %(nai, name)\n",
    "\n",
    "x1 = \"my nai is {0}, name is {1}\".format(nai, name)\n",
    "\n",
    "x2 = \"my nai is {nai1}, name is {name1}\".format(nai1 = nai, name1 = name)\n",
    "\n",
    "x3 = f\"my nai is {nai}, name is {name}\" # 이게 편하지?\n",
    "\n",
    "print(x0 == x1 == x1 == x2 == x2 == x3) # print(x0 == x1 and x1 == x2 and x2 == x3) 이거랑 같음."
   ]
  },
  {
   "cell_type": "markdown",
   "metadata": {},
   "source": [
    "### str vs repr (class때 정확히 알 수 있음)"
   ]
  },
  {
   "cell_type": "code",
   "execution_count": null,
   "metadata": {},
   "outputs": [],
   "source": [
    "x = str('hhb BABO')\n",
    "print(x)\n",
    "\n",
    "x = repr(x)\n",
    "print(x)"
   ]
  },
  {
   "cell_type": "markdown",
   "metadata": {},
   "source": [
    "### 리스트 메소드"
   ]
  },
  {
   "cell_type": "code",
   "execution_count": null,
   "metadata": {},
   "outputs": [],
   "source": [
    "l1 = [123, '123', 'hhb', [1, 2, 3], {1:123, 3:918}, 3.19]\n",
    "\n",
    "print(l1.index(3.19), '\\n')\n",
    "\n",
    "l1.append({1, 2, 3})\n",
    "l1.insert(2, (1, 2, 4))\n",
    "print(l1, '\\n')\n",
    "\n",
    "print(l1.pop(2))\n",
    "l1.remove('123')\n",
    "print(l1, '\\n')\n",
    "\n",
    "print(l1.count(123))"
   ]
  },
  {
   "cell_type": "code",
   "execution_count": null,
   "metadata": {},
   "outputs": [],
   "source": [
    "l2 = [5, 1, 2, 3, 4]\n",
    "\n",
    "l2.sort()\n",
    "print(l2)\n",
    "\n",
    "l2.reverse()\n",
    "print(l2)\n",
    "\n",
    "l1.extend(l2)\n",
    "print(l1)"
   ]
  },
  {
   "cell_type": "markdown",
   "metadata": {},
   "source": [
    "### 딕셔너리"
   ]
  },
  {
   "cell_type": "code",
   "execution_count": null,
   "metadata": {},
   "outputs": [],
   "source": [
    "dic1 = {\"a\":\"lee\", 'b':'hhb', 'f':'jsm'}\n",
    "print(dic1['b'], '\\n')\n",
    "\n",
    "dic1['a12'] = 'ggangsang'\n",
    "print(dic1, '\\n')\n",
    "\n",
    "del dic1['f']\n",
    "print(dic1)"
   ]
  },
  {
   "cell_type": "code",
   "execution_count": null,
   "metadata": {},
   "outputs": [],
   "source": [
    "print(type(dic1.keys()), type(dic1.values()), type(dic1.items()), '\\n') # 읽기 전용인 set자료형임.\n",
    "\n",
    "for i in dic1.keys():\n",
    "    print(i)\n",
    "\n",
    "if 'a10' in dic1.keys():\n",
    "    print('a30 is in dic1.keys')"
   ]
  },
  {
   "cell_type": "code",
   "execution_count": null,
   "metadata": {},
   "outputs": [],
   "source": [
    "dic2 = {'b':'eg', 'c':'eg', 'f':'a'}\n",
    "\n",
    "print(dic1.keys() & dic2.keys())\n",
    "print(dic1.keys() & dic2.values(), '\\n')\n",
    "print(type(dic1.keys() & dic2.keys()))"
   ]
  },
  {
   "cell_type": "markdown",
   "metadata": {},
   "source": [
    "### 튜플 = 읽기 전용 언럭키 리스트 (대신 빠름)"
   ]
  },
  {
   "cell_type": "code",
   "execution_count": null,
   "metadata": {},
   "outputs": [],
   "source": [
    "(hhb, lee, jsm) = (609, 0, 704)\n",
    "\n",
    "print(hhb, lee, jsm)"
   ]
  },
  {
   "cell_type": "markdown",
   "metadata": {},
   "source": [
    "### set(집합) = 걍 집합(우리 아는거)"
   ]
  },
  {
   "cell_type": "code",
   "execution_count": null,
   "metadata": {},
   "outputs": [],
   "source": [
    "se1 = {1, 2, 'hhb', 3, 3}\n",
    "se2 = set([1, 2, 3, 3, 3, 4, 5])\n",
    "\n",
    "print(se1, se2, '\\n')\n",
    "print(se1 & se2, se1 | se2, se1 - se2, '\\n')\n",
    "\n",
    "se1.add(69)\n",
    "print(se1)\n",
    "\n",
    "se1.pop()\n",
    "se1.remove(2)\n",
    "print(se1)"
   ]
  },
  {
   "cell_type": "markdown",
   "metadata": {},
   "source": [
    "## 실행 순서가 바뀌는 것들"
   ]
  },
  {
   "cell_type": "markdown",
   "metadata": {},
   "source": [
    "### If"
   ]
  },
  {
   "cell_type": "code",
   "execution_count": null,
   "metadata": {},
   "outputs": [],
   "source": [
    "x = 5\n",
    "\n",
    "\n",
    "if x == 1:\n",
    "    print('x == 1')"
   ]
  },
  {
   "cell_type": "code",
   "execution_count": null,
   "metadata": {},
   "outputs": [],
   "source": [
    "if x == 5:\n",
    "    print('x == 5')\n",
    "if x == 5:\n",
    "    print('x == 5')\n",
    "if x == 5:\n",
    "    print('x == 5')\n",
    "if x == 5:\n",
    "    print('x == 5')\n",
    "else:\n",
    "    print('x != 5')\n",
    "\n",
    "print('\\n---------\\n') # 위와 아래의 차이는? 예상 출력 결과는?\n",
    "\n",
    "if x == 4:\n",
    "    print('x == 4')\n",
    "elif x == 5:\n",
    "    print('x == 5')\n",
    "elif x == 5:\n",
    "    print('x == 5')\n",
    "elif x == 5:\n",
    "    print('x == 5')"
   ]
  },
  {
   "cell_type": "markdown",
   "metadata": {},
   "source": [
    "### For"
   ]
  },
  {
   "cell_type": "code",
   "execution_count": null,
   "metadata": {},
   "outputs": [],
   "source": [
    "for i in range(10):\n",
    "    print(10 - (i - 1))\n",
    "\n",
    "# 음... 굳이...?"
   ]
  },
  {
   "cell_type": "code",
   "execution_count": null,
   "metadata": {},
   "outputs": [],
   "source": [
    "for i in range(10, 1, -1):\n",
    "    print(i)\n",
    "\n",
    "# 직관적..! 조심만 잘 하자."
   ]
  },
  {
   "cell_type": "code",
   "execution_count": null,
   "metadata": {},
   "outputs": [],
   "source": [
    "x = [i for i in range(1, 10)]\n",
    "print(x)\n",
    "\n",
    "for j in x:\n",
    "    print(j)"
   ]
  },
  {
   "cell_type": "code",
   "execution_count": null,
   "metadata": {},
   "outputs": [],
   "source": []
  }
 ],
 "metadata": {
  "kernelspec": {
   "display_name": ".venv",
   "language": "python",
   "name": "python3"
  },
  "language_info": {
   "codemirror_mode": {
    "name": "ipython",
    "version": 3
   },
   "file_extension": ".py",
   "mimetype": "text/x-python",
   "name": "python",
   "nbconvert_exporter": "python",
   "pygments_lexer": "ipython3",
   "version": "3.11.11"
  }
 },
 "nbformat": 4,
 "nbformat_minor": 2
}

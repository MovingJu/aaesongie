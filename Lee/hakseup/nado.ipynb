{
 "cells": [
  {
   "cell_type": "markdown",
   "metadata": {},
   "source": [
    "## 자료구조"
   ]
  },
  {
   "cell_type": "markdown",
   "metadata": {},
   "source": [
    "### 몰랐을만한 연산자, 수학용 함수"
   ]
  },
  {
   "cell_type": "code",
   "execution_count": 1,
   "metadata": {},
   "outputs": [
    {
     "name": "stdout",
     "output_type": "stream",
     "text": [
      "5 16 4 2\n"
     ]
    }
   ],
   "source": [
    "n = 0\n",
    "\n",
    "n += 0\n",
    "n -= 0\n",
    "n *= 0\n",
    "n /= 1\n",
    "n //= 1\n",
    "n %= 1\n",
    "\n",
    "print(abs(-5), pow(2, 4), \n",
    "      max(2, 4), min(2, 4))"
   ]
  },
  {
   "cell_type": "markdown",
   "metadata": {},
   "source": [
    "### 소숫점 처리"
   ]
  },
  {
   "cell_type": "code",
   "execution_count": 2,
   "metadata": {},
   "outputs": [
    {
     "name": "stdout",
     "output_type": "stream",
     "text": [
      "False\n",
      "3 3.1\n",
      "3 4 3.0 3.141592653589793\n"
     ]
    }
   ],
   "source": [
    "print(0.1 + 0.2 == 0.3)\n",
    "\n",
    "print(round(3.14), round(3.14, 1)) # 이게 훨 좋음.\n",
    "\n",
    "import math\n",
    "\n",
    "print(math.floor(3.14), # 솔직히 올림이랑 내림은 쓸데 없음.\n",
    "      math.ceil(3.14),\n",
    "      math.sqrt(9),\n",
    "      math.pi)"
   ]
  },
  {
   "cell_type": "markdown",
   "metadata": {},
   "source": [
    "### 문자열 잡다"
   ]
  },
  {
   "cell_type": "code",
   "execution_count": 8,
   "metadata": {},
   "outputs": [
    {
     "name": "stdout",
     "output_type": "stream",
     "text": [
      "python is in between my legs.\n",
      "hhb would late tomorrow.\n",
      "jsm sucks at hanguksa. \n",
      "\n",
      "python is in between my legs.\n",
      "\n",
      "hb would late tomorrow.\n",
      "\n",
      "sm sucks at hanguksa. \n",
      "\n",
      "77\n"
     ]
    }
   ],
   "source": [
    "s1 = \"\"\"python is in between my legs.\n",
    "hhb would late tomorrow.\n",
    "jsm sucks at hanguksa.\"\"\"\n",
    "\n",
    "# 'legs.' 에서 '.'이 정확히 30번째임.\n",
    "\n",
    "l1 = [1, 2, 3, 4, 5]\n",
    "\n",
    "\n",
    "print(s1,'\\n')\n",
    "\n",
    "print(s1[:30])\n",
    "print(s1[31:55])\n",
    "print(s1[56:],'\\n')\n",
    "\n",
    "print(len(s1))"
   ]
  },
  {
   "cell_type": "markdown",
   "metadata": {},
   "source": [
    "### 문자열 메소드 잡다"
   ]
  },
  {
   "cell_type": "code",
   "execution_count": null,
   "metadata": {},
   "outputs": [],
   "source": [
    "print(s1.find(\"n\"))\n",
    "print(s1.index(\"n\"))\n",
    "print(s1.index(\"n\", s1.index('n') + 1)) # 메소드 설명 읽어봐.\n",
    "\n",
    "print(s1.replace('late', 'so much late'))\n",
    "print(s1.count('n'))\n",
    "\n",
    "print(s1.find('깡상'))\n",
    "print(s1.index('깡상'))"
   ]
  },
  {
   "cell_type": "markdown",
   "metadata": {},
   "source": [
    "### Quiz1. \"http://www.google.com\"과 같이 \"http://www.{어쩌구저쩌구}.com\"가 들어왔을때 '어쩌구저쩌구 사이트'를 출력하는 코드를 짜세여"
   ]
  },
  {
   "cell_type": "code",
   "execution_count": 12,
   "metadata": {},
   "outputs": [
    {
     "name": "stdout",
     "output_type": "stream",
     "text": [
      "googleeee\n"
     ]
    }
   ],
   "source": [
    "link = \"http://www.googleeee.com\"\n",
    "\n",
    "temp = link.index(\".\")\n",
    "temp2 = link.index(\".\", temp+1)\n",
    "print(link[temp+1:temp2])"
   ]
  },
  {
   "cell_type": "markdown",
   "metadata": {},
   "source": [
    "### 문자열 포멧 (*강조* 하는거 알아둘것!)"
   ]
  },
  {
   "cell_type": "code",
   "execution_count": 43,
   "metadata": {},
   "outputs": [
    {
     "name": "stdout",
     "output_type": "stream",
     "text": [
      "**\n",
      "******** \n",
      "\n",
      "*\n",
      "**\n",
      "***\n",
      "****\n",
      "*****\n",
      "******\n"
     ]
    }
   ],
   "source": [
    "print('*' + '*')\n",
    "print('*' * 8, '\\n')\n",
    "\n",
    "for i in range(1, 7): print('*' * i)"
   ]
  },
  {
   "cell_type": "code",
   "execution_count": 14,
   "metadata": {},
   "outputs": [
    {
     "name": "stdout",
     "output_type": "stream",
     "text": [
      "True\n"
     ]
    }
   ],
   "source": [
    "nai = print(type(y))\n",
    "x0 = \"my nai is %d, name is %s\" %(nai, name)\n",
    "\n",
    "x1 = \"my nai is {0}, name is {1}\".format(nai, name)\n",
    "\n",
    "x2 = \"my nai is {nai1}, name is {name1}\".format(nai1 = nai, name1 = name)\n",
    "\n",
    "x3 = f\"my nai is {nai}, name is {name}\" # 이게 편하지?\n",
    "\n",
    "print(x0 == x1 == x1 == x2 == x2 == x3) # print(x0 == x1 and x1 == x2 and x2 == x3) 이거랑 같음."
   ]
  },
  {
   "cell_type": "markdown",
   "metadata": {},
   "source": [
    "### 알아둘 필요 있는 잡지식"
   ]
  },
  {
   "cell_type": "code",
   "execution_count": 18,
   "metadata": {},
   "outputs": [
    {
     "name": "stdout",
     "output_type": "stream",
     "text": [
      "_________-1000000000\n",
      "1.666667\n",
      "1.6667\n"
     ]
    }
   ],
   "source": [
    "x = -1000000000\n",
    "\n",
    "print(f\"{x:_>+20,}\") # 기기괴괴\n",
    "\n",
    "x1 = 5/3\n",
    "\n",
    "print(f'{x1:f}')\n",
    "print(f'{x1:.4f}')"
   ]
  },
  {
   "cell_type": "markdown",
   "metadata": {},
   "source": [
    "### str vs repr (class때 정확히 알 수 있음)"
   ]
  },
  {
   "cell_type": "code",
   "execution_count": null,
   "metadata": {},
   "outputs": [],
   "source": [
    "x = str('hhb BABO')\n",
    "print(x)\n",
    "\n",
    "x = repr(x)\n",
    "print(x)"
   ]
  },
  {
   "cell_type": "markdown",
   "metadata": {},
   "source": [
    "### 리스트 메소드"
   ]
  },
  {
   "cell_type": "code",
   "execution_count": 19,
   "metadata": {},
   "outputs": [
    {
     "name": "stdout",
     "output_type": "stream",
     "text": [
      "5 \n",
      "\n",
      "[123, '123', (1, 2, 4), 'hhb', [1, 2, 3], {1: 123, 3: 918}, 3.19, {1, 2, 3}] \n",
      "\n",
      "(1, 2, 4)\n",
      "[123, 'hhb', [1, 2, 3], {1: 123, 3: 918}, 3.19, {1, 2, 3}] \n",
      "\n",
      "1\n"
     ]
    }
   ],
   "source": [
    "l1 = [123, '123', 'hhb', [1, 2, 3], {1:123, 3:918}, 3.19]\n",
    "\n",
    "print(l1.index(3.19), '\\n')\n",
    "\n",
    "l1.append({1, 2, 3})\n",
    "l1.insert(2, (1, 2, 4))\n",
    "print(l1, '\\n')\n",
    "\n",
    "print(l1.pop(2))\n",
    "l1.remove('123')\n",
    "print(l1, '\\n')\n",
    "\n",
    "print(l1.count(123))"
   ]
  },
  {
   "cell_type": "code",
   "execution_count": 20,
   "metadata": {},
   "outputs": [
    {
     "name": "stdout",
     "output_type": "stream",
     "text": [
      "[1, 2, 3, 4, 5]\n",
      "[5, 4, 3, 2, 1]\n",
      "[123, 'hhb', [1, 2, 3], {1: 123, 3: 918}, 3.19, {1, 2, 3}, 5, 4, 3, 2, 1]\n"
     ]
    }
   ],
   "source": [
    "l2 = [5, 1, 2, 3, 4]\n",
    "\n",
    "l2.sort()\n",
    "print(l2)\n",
    "\n",
    "l2.reverse()\n",
    "print(l2)\n",
    "\n",
    "l1.extend(l2)\n",
    "print(l1)"
   ]
  },
  {
   "cell_type": "markdown",
   "metadata": {},
   "source": [
    "### 딕셔너리"
   ]
  },
  {
   "cell_type": "code",
   "execution_count": 23,
   "metadata": {},
   "outputs": [
    {
     "name": "stdout",
     "output_type": "stream",
     "text": [
      "hhb \n",
      "\n",
      "{'a': 'lee', 'b': 'hhb', 'f': 'jsm', 'a12': 'ggangsang'} \n",
      "\n",
      "{'a': 'lee', 'b': 'hhb', 'a12': 'ggangsang'}\n"
     ]
    }
   ],
   "source": [
    "dic1 = {\"a\":\"lee\", 'b':'hhb', 'f':'jsm'}\n",
    "print(dic1['b'], '\\n')\n",
    "\n",
    "dic1['a12'] = 'ggangsang'\n",
    "print(dic1, '\\n')\n",
    "\n",
    "del dic1['f']\n",
    "print(dic1)\n"
   ]
  },
  {
   "cell_type": "code",
   "execution_count": 27,
   "metadata": {},
   "outputs": [
    {
     "name": "stdout",
     "output_type": "stream",
     "text": [
      "<class 'dict_keys'> <class 'dict_values'> <class 'dict_items'> \n",
      "\n",
      "a\n",
      "b\n",
      "a12\n",
      "a12 is in dic1.keys\n"
     ]
    }
   ],
   "source": [
    "print(type(dic1.keys()), type(dic1.values()), type(dic1.items()), '\\n') # 읽기 전용인 set자료형임.\n",
    "\n",
    "for i in dic1.keys():\n",
    "    print(i)\n",
    "\n",
    "if 'a12' in dic1.keys():\n",
    "    print('a12 is in dic1.keys')"
   ]
  },
  {
   "cell_type": "code",
   "execution_count": 28,
   "metadata": {},
   "outputs": [
    {
     "name": "stdout",
     "output_type": "stream",
     "text": [
      "{'b'}\n",
      "{'a'} \n",
      "\n",
      "<class 'set'>\n"
     ]
    }
   ],
   "source": [
    "dic2 = {'b':'eg', 'c':'eg', 'f':'a'}\n",
    "\n",
    "print(dic1.keys() & dic2.keys())\n",
    "print(dic1.keys() & dic2.values(), '\\n')\n",
    "print(type(dic1.keys() & dic2.keys()))"
   ]
  },
  {
   "cell_type": "markdown",
   "metadata": {},
   "source": [
    "### 튜플 = 읽기 전용 언럭키 리스트 (대신 빠름)"
   ]
  },
  {
   "cell_type": "code",
   "execution_count": null,
   "metadata": {},
   "outputs": [],
   "source": [
    "(hhb, lee, jsm) = (609, 0, 704)\n",
    "\n",
    "print(hhb, lee, jsm)"
   ]
  },
  {
   "cell_type": "markdown",
   "metadata": {},
   "source": [
    "### set(집합) = 걍 집합(우리 아는거)"
   ]
  },
  {
   "cell_type": "code",
   "execution_count": null,
   "metadata": {},
   "outputs": [],
   "source": [
    "se1 = {1, 2, 'hhb', 3, 3}\n",
    "se2 = set([1, 2, 3, 3, 3, 4, 5])\n",
    "\n",
    "print(se1, se2, '\\n')\n",
    "print(se1 & se2, se1 | se2, se1 - se2, '\\n')\n",
    "\n",
    "se1.add(69)\n",
    "print(se1)\n",
    "\n",
    "se1.pop()\n",
    "se1.remove(2)\n",
    "print(se1)"
   ]
  },
  {
   "cell_type": "markdown",
   "metadata": {},
   "source": [
    "### 알아둘 필요 있는 잡지식2"
   ]
  },
  {
   "cell_type": "code",
   "execution_count": 30,
   "metadata": {},
   "outputs": [
    {
     "name": "stdout",
     "output_type": "stream",
     "text": [
      "eng            :    000095\n",
      "that thing     :    000003\n",
      "weight         :    000050\n",
      "kie            :    000169\n"
     ]
    }
   ],
   "source": [
    "dic1 = {'eng':95, 'that thing':3, 'weight':50,'kie':169}\n",
    "\n",
    "for i, j in dic1.items():\n",
    "    print(i.ljust(15), str(j).zfill(6).rjust(10), sep=':')"
   ]
  },
  {
   "cell_type": "markdown",
   "metadata": {},
   "source": [
    "## 실행 순서가 바뀌는 것들"
   ]
  },
  {
   "cell_type": "markdown",
   "metadata": {},
   "source": [
    "### If"
   ]
  },
  {
   "cell_type": "code",
   "execution_count": 32,
   "metadata": {},
   "outputs": [
    {
     "name": "stdout",
     "output_type": "stream",
     "text": [
      "False\n"
     ]
    }
   ],
   "source": [
    "x = 5\n",
    "\n",
    "print(x == 1)\n",
    "\n",
    "if x == 1:\n",
    "    print('x == 1')"
   ]
  },
  {
   "cell_type": "code",
   "execution_count": 33,
   "metadata": {},
   "outputs": [
    {
     "name": "stdout",
     "output_type": "stream",
     "text": [
      "x == 5\n",
      "x == 5\n",
      "x == 5\n",
      "x == 5\n",
      "\n",
      "---------\n",
      "\n",
      "x == 5\n"
     ]
    }
   ],
   "source": [
    "if x == 5:\n",
    "    print('x == 5')\n",
    "if x == 5:\n",
    "    print('x == 5')\n",
    "if x == 5:\n",
    "    print('x == 5')\n",
    "if x == 5:\n",
    "    print('x == 5')\n",
    "else:\n",
    "    print('x != 5')\n",
    "\n",
    "print('\\n---------\\n') # 위와 아래의 차이는? 예상 출력 결과는?\n",
    "\n",
    "if x == 4:\n",
    "    print('x == 4')\n",
    "elif x == 5:\n",
    "    print('x == 5')\n",
    "elif x == 5:\n",
    "    print('x == 5')\n",
    "elif x == 5:\n",
    "    print('x == 5')"
   ]
  },
  {
   "cell_type": "markdown",
   "metadata": {},
   "source": [
    "### For"
   ]
  },
  {
   "cell_type": "markdown",
   "metadata": {},
   "source": [
    "```python\n",
    ">10\n",
    ">9\n",
    ">8\n",
    ">7\n",
    ">6\n",
    ">5\n",
    ">4\n",
    ">3\n",
    ">2\n",
    ">1\n",
    "```"
   ]
  },
  {
   "cell_type": "code",
   "execution_count": 36,
   "metadata": {},
   "outputs": [
    {
     "name": "stdout",
     "output_type": "stream",
     "text": [
      "10\n",
      "9\n",
      "8\n",
      "7\n",
      "6\n",
      "5\n",
      "4\n",
      "3\n",
      "2\n",
      "1\n"
     ]
    }
   ],
   "source": [
    "for i in range(10,0,-1):\n",
    "    print(i)"
   ]
  },
  {
   "cell_type": "code",
   "execution_count": 37,
   "metadata": {},
   "outputs": [
    {
     "name": "stdout",
     "output_type": "stream",
     "text": [
      "10\n",
      "9\n",
      "8\n",
      "7\n",
      "6\n",
      "5\n",
      "4\n",
      "3\n",
      "2\n"
     ]
    }
   ],
   "source": [
    "for i in range(10, 1 -1, -1):\n",
    "    print(i)"
   ]
  },
  {
   "cell_type": "code",
   "execution_count": null,
   "metadata": {},
   "outputs": [],
   "source": [
    "for i in range(10, 1 - 1, -1):\n",
    "    print(i)\n",
    "\n",
    "# 음... 굳이...?"
   ]
  },
  {
   "cell_type": "code",
   "execution_count": 38,
   "metadata": {},
   "outputs": [
    {
     "name": "stdout",
     "output_type": "stream",
     "text": [
      "10\n",
      "9\n",
      "8\n",
      "7\n",
      "6\n",
      "5\n",
      "4\n",
      "3\n",
      "2\n",
      "1\n"
     ]
    }
   ],
   "source": [
    "for i in range(10):\n",
    "    print(10 - i)\n",
    "\n",
    "# 직관적..! 조심만 잘 하자."
   ]
  },
  {
   "cell_type": "code",
   "execution_count": 39,
   "metadata": {},
   "outputs": [
    {
     "name": "stdout",
     "output_type": "stream",
     "text": [
      "[1, 2, 3, 4, 5, 6, 7, 8, 9]\n",
      "1\n",
      "2\n",
      "3\n",
      "4\n",
      "5\n",
      "6\n",
      "7\n",
      "8\n",
      "9\n"
     ]
    }
   ],
   "source": [
    "x = [i for i in range(1, 10)] # 어떻게 될까?\n",
    "print(x)\n",
    "\n",
    "for j in x: # 리스트를 for문에? 그럼 j는 뭘까?\n",
    "    print(j)"
   ]
  },
  {
   "cell_type": "code",
   "execution_count": 40,
   "metadata": {},
   "outputs": [
    {
     "name": "stdout",
     "output_type": "stream",
     "text": [
      "[3, 3, 3, 21]\n",
      "['LEE', 'HHB', 'JSM', 'NOYAKJASUCKJJUKBULNAM']\n"
     ]
    }
   ],
   "source": [
    "#위를 응용하면?\n",
    "\n",
    "l1 = ['lee','hhb','jsm','noyakjasuckjjukbulnam']\n",
    "\n",
    "l1_len = [len(i) for i in l1]\n",
    "l1_upper = [i.upper() for i in l1]\n",
    "\n",
    "print(l1_len)\n",
    "print(l1_upper)"
   ]
  },
  {
   "cell_type": "code",
   "execution_count": 41,
   "metadata": {},
   "outputs": [
    {
     "name": "stdout",
     "output_type": "stream",
     "text": [
      "6\n"
     ]
    }
   ],
   "source": [
    "# 좀 더 복잡하게\n",
    "\n",
    "x = 1\n",
    "\n",
    "for i in range(10):\n",
    "\n",
    "    if x > 5:\n",
    "        x = 2\n",
    "        continue\n",
    "\n",
    "    elif x > 7:\n",
    "        x = 0\n",
    "        print(i)\n",
    "        break\n",
    "    \n",
    "    x += 1\n",
    "\n",
    "else:\n",
    "    print(x)"
   ]
  },
  {
   "cell_type": "code",
   "execution_count": null,
   "metadata": {},
   "outputs": [],
   "source": []
  },
  {
   "cell_type": "code",
   "execution_count": null,
   "metadata": {},
   "outputs": [],
   "source": []
  },
  {
   "cell_type": "markdown",
   "metadata": {},
   "source": [
    "### While"
   ]
  },
  {
   "cell_type": "code",
   "execution_count": 42,
   "metadata": {},
   "outputs": [
    {
     "name": "stdout",
     "output_type": "stream",
     "text": [
      "halo\n",
      "halo\n",
      "halo\n",
      "halo\n",
      "halo\n",
      "halo\n",
      "halo\n",
      "halo\n",
      "halo\n",
      "halo\n",
      "halo\n"
     ]
    }
   ],
   "source": [
    "x = 0\n",
    "\n",
    "while True:\n",
    "    print('halo')\n",
    "    x += 1\n",
    "\n",
    "    if x > 10:\n",
    "        break\n",
    "\n",
    "else:\n",
    "    print('이건 출력 안될걸?')"
   ]
  },
  {
   "cell_type": "markdown",
   "metadata": {},
   "source": [
    "### Quiz2. 다음을 출력하는 2줄 이내의 코드를 짜시오.\n",
    "```python\n",
    ">    *\n",
    ">   ***\n",
    ">  *****\n",
    "> *******\n",
    ">*********\n",
    "> *******\n",
    ">  *****\n",
    ">   ***\n",
    ">    *\n",
    "```"
   ]
  },
  {
   "cell_type": "code",
   "execution_count": 46,
   "metadata": {},
   "outputs": [
    {
     "name": "stdout",
     "output_type": "stream",
     "text": [
      "    *\n",
      "   ***\n",
      "  *****\n",
      " *******\n",
      "*********\n",
      " *******\n",
      "  *****\n",
      "   ***\n",
      "    *\n"
     ]
    }
   ],
   "source": [
    "for i in range(5): print(\" \"*(4-i)+\"*\"*(i*2+1))\n",
    "for i in range(4): print(\" \"*(i+1)+\"*\"*((3-i)*2+1))"
   ]
  },
  {
   "cell_type": "code",
   "execution_count": null,
   "metadata": {},
   "outputs": [],
   "source": []
  },
  {
   "cell_type": "markdown",
   "metadata": {},
   "source": [
    "## import의 세계"
   ]
  },
  {
   "cell_type": "markdown",
   "metadata": {},
   "source": [
    "### Function"
   ]
  },
  {
   "cell_type": "code",
   "execution_count": 47,
   "metadata": {},
   "outputs": [
    {
     "name": "stdout",
     "output_type": "stream",
     "text": [
      "my legs: 3, my betsal: 0g\n",
      "my legs: 3, my betsal: 0g\n"
     ]
    }
   ],
   "source": [
    "def printer(legs, betsal):\n",
    "    print(f\"my legs: {legs}, my betsal: {betsal}\")\n",
    "    \n",
    "\n",
    "\n",
    "printer(betsal='0g', legs=3)\n",
    "\n",
    "printer(3, '0g')"
   ]
  },
  {
   "cell_type": "code",
   "execution_count": 50,
   "metadata": {},
   "outputs": [
    {
     "data": {
      "text/plain": [
       "3"
      ]
     },
     "execution_count": 50,
     "metadata": {},
     "output_type": "execute_result"
    }
   ],
   "source": [
    "def adder(a, b):\n",
    "    return a + b\n",
    "\n",
    "print(adder(1, 2))"
   ]
  },
  {
   "cell_type": "code",
   "execution_count": 52,
   "metadata": {},
   "outputs": [
    {
     "name": "stdout",
     "output_type": "stream",
     "text": [
      "(1000, 5000, 6900) {'chimek': 23000, 'somek': 57000}\n",
      "92900\n",
      "92900\n"
     ]
    }
   ],
   "source": [
    "# 가변인자\n",
    "\n",
    "def gagaebu(*used: int, **notes: int) -> int:\n",
    "\n",
    "    print(used, notes)\n",
    "\n",
    "    total_used = 0\n",
    "\n",
    "    for i in used:\n",
    "        total_used += i\n",
    "    \n",
    "\n",
    "    # Quiz3. 여기에 키워드값이 들어왔을때 처리하는 줄을 추가하삼.\n",
    "    for i in notes.values():\n",
    "        total_used += i\n",
    "\n",
    "\n",
    "\n",
    "\n",
    "\n",
    "    return total_used\n",
    "\n",
    "print(gagaebu(1000, 5000, 6900, chimek=23000, somek = 57000))\n",
    "\n",
    "print(1000 + 5000 + 6900 + 23000 + 57000)"
   ]
  },
  {
   "cell_type": "markdown",
   "metadata": {},
   "source": [
    "### 함수를 쓰는 이유?"
   ]
  },
  {
   "cell_type": "code",
   "execution_count": 53,
   "metadata": {},
   "outputs": [
    {
     "name": "stdout",
     "output_type": "stream",
     "text": [
      "[1, 4, 9, 16, 25]\n",
      "[1.0, 1.4142135623730951, 1.7320508075688772, 2.0, 2.23606797749979]\n"
     ]
    }
   ],
   "source": [
    "# 기괴하게 생겼나? 사실 효과적임!\n",
    "\n",
    "def square(x):\n",
    "    return x * x\n",
    "\n",
    "def sqrt(x):\n",
    "    return x**(1/2)\n",
    "\n",
    "def apply_function(func, data):\n",
    "    return [func(item) for item in data]\n",
    "\n",
    "numbers = [1, 2, 3, 4, 5]\n",
    "\n",
    "squared_numbers = apply_function(square, numbers)\n",
    "sqrted_numbers = apply_function(sqrt, numbers)\n",
    "\n",
    "print(squared_numbers)\n",
    "print(sqrted_numbers)"
   ]
  },
  {
   "cell_type": "code",
   "execution_count": 54,
   "metadata": {},
   "outputs": [
    {
     "name": "stdout",
     "output_type": "stream",
     "text": [
      "2025\n",
      "45.0\n"
     ]
    }
   ],
   "source": [
    "# 위 코드의 장점? -> *재사용성, 가독성\n",
    "\n",
    "print(square(45))\n",
    "print(sqrt(2025))"
   ]
  },
  {
   "cell_type": "code",
   "execution_count": 55,
   "metadata": {},
   "outputs": [
    {
     "name": "stdout",
     "output_type": "stream",
     "text": [
      "hhb is BABO\n"
     ]
    }
   ],
   "source": [
    "import ex1\n",
    "\n",
    "ex1.hhb_babo('hhb is BABO')"
   ]
  },
  {
   "cell_type": "markdown",
   "metadata": {},
   "source": [
    "### Decorator 문법 (나도 잘 모르므로 추가학습 권장)"
   ]
  },
  {
   "cell_type": "code",
   "execution_count": 56,
   "metadata": {},
   "outputs": [
    {
     "name": "stdout",
     "output_type": "stream",
     "text": [
      "wrapper\n",
      "('elapsed_time: 1.0001', 'Slept for 1 seconds')\n"
     ]
    }
   ],
   "source": [
    "import time\n",
    "\n",
    "def stopwatch(func):\n",
    "    def wrapper(*args, **kwargs):\n",
    "        st = time.time()\n",
    "        result = func(*args, **kwargs)\n",
    "        et = time.time()\n",
    "        elapsed_time = f\"elapsed_time: {et - st:.4f}\"\n",
    "        return elapsed_time, result\n",
    "    return wrapper\n",
    "\n",
    "@stopwatch\n",
    "def siganggulgi(t):\n",
    "    time.sleep(t)\n",
    "    return f\"Slept for {t} seconds\"\n",
    "\n",
    "print(siganggulgi.__name__)\n",
    "\n",
    "print(siganggulgi(1))\n"
   ]
  },
  {
   "cell_type": "code",
   "execution_count": 57,
   "metadata": {},
   "outputs": [
    {
     "name": "stdout",
     "output_type": "stream",
     "text": [
      "siganggulgi\n",
      "('elapsed_time: 1.0004', 'Slept for 1 seconds')\n"
     ]
    }
   ],
   "source": [
    "import time\n",
    "from functools import wraps\n",
    "\n",
    "def stopwatch(func):\n",
    "    @wraps(func)\n",
    "    def wrapper(*args, **kwargs):\n",
    "        st = time.time()\n",
    "        result = func(*args, **kwargs)\n",
    "        et = time.time()\n",
    "        elapsed_time = f\"elapsed_time: {et - st:.4f}\"\n",
    "        return elapsed_time, result\n",
    "    return wrapper\n",
    "\n",
    "@stopwatch\n",
    "def siganggulgi(t):\n",
    "    time.sleep(t)\n",
    "    return f\"Slept for {t} seconds\"\n",
    "\n",
    "print(siganggulgi.__name__)\n",
    "\n",
    "print(siganggulgi(1))"
   ]
  },
  {
   "cell_type": "code",
   "execution_count": 70,
   "metadata": {},
   "outputs": [
    {
     "name": "stdout",
     "output_type": "stream",
     "text": [
      "[1, 2, 3, 4, 5, 6, 7, 8, 9, 10, 11, 12]\n"
     ]
    }
   ],
   "source": [
    "def sorter(li):\n",
    "    x = 0\n",
    "    while x < len(li):\n",
    "        for i in range(len(li)-x - 1):\n",
    "            if li[x] > li[x+i+1]:\n",
    "                t = li[x]\n",
    "                li[x] = li[x+i+1]\n",
    "                li[x+i+1] = t\n",
    "            else:\n",
    "                continue\n",
    "        x += 1\n",
    "\n",
    "    return li\n",
    "\n",
    "l1 = [6,5,3,1,2,4, 7, 9, 8, 10, 12, 11]\n",
    "\n",
    "print(sorter(l1))"
   ]
  },
  {
   "cell_type": "code",
   "execution_count": null,
   "metadata": {},
   "outputs": [],
   "source": []
  }
 ],
 "metadata": {
  "kernelspec": {
   "display_name": ".venv",
   "language": "python",
   "name": "python3"
  },
  "language_info": {
   "codemirror_mode": {
    "name": "ipython",
    "version": 3
   },
   "file_extension": ".py",
   "mimetype": "text/x-python",
   "name": "python",
   "nbconvert_exporter": "python",
   "pygments_lexer": "ipython3",
   "version": "3.11.0rc1"
  }
 },
 "nbformat": 4,
 "nbformat_minor": 2
}

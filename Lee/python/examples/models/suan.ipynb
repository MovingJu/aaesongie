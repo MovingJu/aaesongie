{
 "cells": [
  {
   "cell_type": "code",
   "execution_count": 6,
   "metadata": {},
   "outputs": [],
   "source": [
    "class Book(object):\n",
    "    author = str()\n",
    "    title = str()\n",
    "    publisher = str()\n",
    "    date = str()"
   ]
  },
  {
   "cell_type": "code",
   "execution_count": 8,
   "metadata": {},
   "outputs": [
    {
     "name": "stdout",
     "output_type": "stream",
     "text": [
      "Suan\n",
      "python programming\n"
     ]
    }
   ],
   "source": [
    "book = Book()\n",
    "book.author = 'Suan'\n",
    "print(book.author)\n",
    "book.title = \"python programming\"\n",
    "print(book.title)"
   ]
  },
  {
   "cell_type": "code",
   "execution_count": 9,
   "metadata": {},
   "outputs": [],
   "source": [
    "class Book(object):\n",
    "    author = str()\n",
    "    title = str()\n",
    "    publisher = str()\n",
    "    date = str()\n",
    "\n",
    "    def print_info(self):\n",
    "        print(f\"Author: {self.author}\")\n",
    "        print(f\"Title: {self.title}\")"
   ]
  },
  {
   "cell_type": "code",
   "execution_count": 10,
   "metadata": {},
   "outputs": [
    {
     "name": "stdout",
     "output_type": "stream",
     "text": [
      "Author: Suan\n",
      "Title: python programming\n"
     ]
    }
   ],
   "source": [
    "book = Book()\n",
    "book.author = 'Suan'\n",
    "book.title = \"python programming\"\n",
    "book.print_info()"
   ]
  },
  {
   "cell_type": "code",
   "execution_count": 11,
   "metadata": {},
   "outputs": [],
   "source": [
    "class Book(object):\n",
    "    author = str()\n",
    "    title = str()\n",
    "    publisher = str()\n",
    "    date = str()\n",
    "\n",
    "    def print_info(self):\n",
    "        print(f\"Author: {self.author}\")\n",
    "        print(f\"Title: {self.title}\")\n",
    "        print(f\"Publisher: {self.publisher}\")\n",
    "        print(f\"Date: {self.date}\")"
   ]
  },
  {
   "cell_type": "code",
   "execution_count": 12,
   "metadata": {},
   "outputs": [
    {
     "name": "stdout",
     "output_type": "stream",
     "text": [
      "Author: Suan\n",
      "Title: python programming\n",
      "Publisher: Colab\n",
      "Date: 2020\n"
     ]
    }
   ],
   "source": [
    "book = Book()\n",
    "book.author = 'Suan'\n",
    "book.title = \"python programming\"\n",
    "book.publisher = \"Colab\"\n",
    "book.date = \"2020\"\n",
    "book.print_info()"
   ]
  },
  {
   "cell_type": "code",
   "execution_count": 13,
   "metadata": {},
   "outputs": [],
   "source": [
    "class Book(object):\n",
    "    author = str()\n",
    "    title = str()\n",
    "    publisher = str()\n",
    "    date = str()\n",
    "\n",
    "    def print_info(self):\n",
    "        print(f\"Author: {self.author}\")\n",
    "        print(f\"Title: {self.title}\")\n",
    "        print(f\"Publisher: {self.publisher}\")\n",
    "        print(f\"Date: {self.date}\")"
   ]
  },
  {
   "cell_type": "code",
   "execution_count": 15,
   "metadata": {},
   "outputs": [
    {
     "name": "stdout",
     "output_type": "stream",
     "text": [
      "Author: Suan\n",
      "Title: python programming\n",
      "Publisher: Colab\n",
      "Date: 2020\n"
     ]
    }
   ],
   "source": [
    "book = Book()\n",
    "Book.author = 'Suan'\n",
    "Book.title = \"python programming\"\n",
    "Book.publisher = \"Colab\"\n",
    "Book.date = \"2020\"\n",
    "book.print_info()"
   ]
  },
  {
   "cell_type": "code",
   "execution_count": null,
   "metadata": {},
   "outputs": [],
   "source": [
    "class Book(object):\n",
    "    count = int(0)\n",
    "    \n",
    "    author = str()\n",
    "    title = str()\n",
    "    publisher = str()\n",
    "    date = str()\n",
    "\n",
    "    def print_info(self):\n",
    "        print(f\"Author: {self.author}\")\n",
    "        print(f\"Title: {self.title}\")\n",
    "        print(f\"Publisher: {self.publisher}\")\n",
    "        print(f\"Date: {self.date}\")"
   ]
  },
  {
   "cell_type": "code",
   "execution_count": 18,
   "metadata": {},
   "outputs": [
    {
     "name": "stdout",
     "output_type": "stream",
     "text": [
      "Author: Suan\n",
      "Title: python programming\n",
      "Publisher: Colab\n",
      "Date: 2020\n",
      "NoB: 1\n"
     ]
    }
   ],
   "source": [
    "book = Book()\n",
    "Book.count += 1\n",
    "book.author = 'Suan'\n",
    "book.title = \"python programming\"\n",
    "book.publisher = \"Colab\"\n",
    "book.date = \"2020\"\n",
    "book.print_info()\n",
    "print(\"NoB:\", str(Book.count))"
   ]
  },
  {
   "cell_type": "code",
   "execution_count": 19,
   "metadata": {},
   "outputs": [],
   "source": [
    "class Book(object):\n",
    "    count = int(0)\n",
    "    \n",
    "    author = str()\n",
    "    title = str()\n",
    "    publisher = str()\n",
    "    date = str()\n",
    "\n",
    "    def print_info(self):\n",
    "        print(f\"Author: {self.author}\")\n",
    "        print(f\"Title: {self.title}\")\n",
    "        print(f\"Publisher: {self.publisher}\")\n",
    "        print(f\"Date: {self.date}\")"
   ]
  },
  {
   "cell_type": "code",
   "execution_count": null,
   "metadata": {},
   "outputs": [],
   "source": []
  }
 ],
 "metadata": {
  "kernelspec": {
   "display_name": ".venv",
   "language": "python",
   "name": "python3"
  },
  "language_info": {
   "codemirror_mode": {
    "name": "ipython",
    "version": 3
   },
   "file_extension": ".py",
   "mimetype": "text/x-python",
   "name": "python",
   "nbconvert_exporter": "python",
   "pygments_lexer": "ipython3",
   "version": "3.11.11"
  }
 },
 "nbformat": 4,
 "nbformat_minor": 2
}
